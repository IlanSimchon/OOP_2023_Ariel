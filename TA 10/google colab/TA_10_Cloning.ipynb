{
  "nbformat": 4,
  "nbformat_minor": 0,
  "metadata": {
    "colab": {
      "provenance": []
    },
    "kernelspec": {
      "name": "python3",
      "display_name": "Python 3"
    },
    "language_info": {
      "name": "python"
    }
  },
  "cells": [
    {
      "cell_type": "code",
      "source": [
        "import copy"
      ],
      "metadata": {
        "id": "QD37Q4_quyyX"
      },
      "execution_count": 2,
      "outputs": []
    },
    {
      "cell_type": "markdown",
      "source": [
        "## Shallow Cloning Example:\n",
        "\n",
        "In this shallow cloning example, we create a shallow copy of the ```people``` list using ```copy.copy()```.\n",
        "\n",
        "When we modify the age of the first person in the cloned list, it affects the original list as well because both lists share references to the same person dictionaries.\n",
        "\n",
        "\n",
        "\n",
        "\n",
        "\n",
        "\n"
      ],
      "metadata": {
        "id": "ahBlIHzNZvtz"
      }
    },
    {
      "cell_type": "code",
      "execution_count": 3,
      "metadata": {
        "colab": {
          "base_uri": "https://localhost:8080/"
        },
        "id": "3affm-13ZttP",
        "outputId": "66864097-48ca-4004-b7a4-7b9acc51c35e"
      },
      "outputs": [
        {
          "output_type": "stream",
          "name": "stdout",
          "text": [
            "Original List:\n",
            "[{'name': 'Alice', 'age': 40}, {'name': 'Bob', 'age': 25}, {'name': 'Charlie', 'age': 35}]\n",
            "\n",
            "Cloned List:\n",
            "[{'name': 'Alice', 'age': 40}, {'name': 'Bob', 'age': 25}, {'name': 'Charlie', 'age': 35}]\n"
          ]
        }
      ],
      "source": [
        "# Original list of people\n",
        "people = [\n",
        "    {\"name\": \"Alice\", \"age\": 30},\n",
        "    {\"name\": \"Bob\", \"age\": 25},\n",
        "    {\"name\": \"Charlie\", \"age\": 35}\n",
        "]\n",
        "\n",
        "# Shallow clone of the list\n",
        "people_clone = copy.copy(people)\n",
        "\n",
        "# Modify the age of the first person in the cloned list\n",
        "people_clone[0][\"age\"] = 40\n",
        "\n",
        "# Print both lists\n",
        "print(\"Original List:\")\n",
        "print(people)\n",
        "\n",
        "print(\"\\nCloned List:\")\n",
        "print(people_clone)"
      ]
    },
    {
      "cell_type": "markdown",
      "source": [
        "## Deep Cloning Example:\n",
        "\n",
        "In this deep cloning example, we create a deep copy of the ```people``` list using ```copy.deepcopy()```.\n",
        "\n",
        "When we modify the age of the first person in the cloned list, it does not affect the original list because the nested dictionaries are also cloned recursively, ensuring that both lists are entirely independent of each other.\n",
        "\n",
        "\n"
      ],
      "metadata": {
        "id": "JJPUUmrXaIXb"
      }
    },
    {
      "cell_type": "code",
      "source": [
        "# Original list of people\n",
        "people = [\n",
        "    {\"name\": \"Alice\", \"age\": 30},\n",
        "    {\"name\": \"Bob\", \"age\": 25},\n",
        "    {\"name\": \"Charlie\", \"age\": 35}\n",
        "]\n",
        "\n",
        "# Deep clone of the list\n",
        "people_clone = copy.deepcopy(people)\n",
        "\n",
        "# Modify the age of the first person in the cloned list\n",
        "people_clone[0][\"age\"] = 40\n",
        "\n",
        "# Print both lists\n",
        "print(\"Original List:\")\n",
        "print(people)\n",
        "\n",
        "print(\"\\nCloned List:\")\n",
        "print(people_clone)"
      ],
      "metadata": {
        "colab": {
          "base_uri": "https://localhost:8080/"
        },
        "id": "sedHRmgTaELz",
        "outputId": "603e51f2-6679-452b-ffd3-752488850438"
      },
      "execution_count": 4,
      "outputs": [
        {
          "output_type": "stream",
          "name": "stdout",
          "text": [
            "Original List:\n",
            "[{'name': 'Alice', 'age': 30}, {'name': 'Bob', 'age': 25}, {'name': 'Charlie', 'age': 35}]\n",
            "\n",
            "Cloned List:\n",
            "[{'name': 'Alice', 'age': 40}, {'name': 'Bob', 'age': 25}, {'name': 'Charlie', 'age': 35}]\n"
          ]
        }
      ]
    },
    {
      "cell_type": "code",
      "source": [],
      "metadata": {
        "id": "dnV8qkGQu4-v"
      },
      "execution_count": null,
      "outputs": []
    }
  ]
}