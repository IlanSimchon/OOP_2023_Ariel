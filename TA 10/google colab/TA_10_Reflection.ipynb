{
  "nbformat": 4,
  "nbformat_minor": 0,
  "metadata": {
    "colab": {
      "provenance": []
    },
    "kernelspec": {
      "name": "python3",
      "display_name": "Python 3"
    },
    "language_info": {
      "name": "python"
    }
  },
  "cells": [
    {
      "cell_type": "markdown",
      "source": [
        "## 1. Inspecting Class Information:\n",
        "\n",
        "\n",
        "In this example, ```dir(Pizza)``` returns a list of attributes of the Pizza class, including methods and other attributes.\n",
        "\n",
        "\n",
        "\n",
        "\n"
      ],
      "metadata": {
        "id": "ahBlIHzNZvtz"
      }
    },
    {
      "cell_type": "code",
      "execution_count": 7,
      "metadata": {
        "colab": {
          "base_uri": "https://localhost:8080/"
        },
        "id": "3affm-13ZttP",
        "outputId": "1060c3f3-ce6b-4de0-8126-bc8d01e94ab2"
      },
      "outputs": [
        {
          "output_type": "stream",
          "name": "stdout",
          "text": [
            "Attributes of Pizza class: ['__class__', '__delattr__', '__dict__', '__dir__', '__doc__', '__eq__', '__format__', '__ge__', '__getattribute__', '__gt__', '__hash__', '__init__', '__init_subclass__', '__le__', '__lt__', '__module__', '__ne__', '__new__', '__reduce__', '__reduce_ex__', '__repr__', '__setattr__', '__sizeof__', '__str__', '__subclasshook__', '__weakref__']\n"
          ]
        }
      ],
      "source": [
        "class Pizza:\n",
        "    def __init__(self, size, toppings):\n",
        "        self.size = size\n",
        "        self.toppings = toppings\n",
        "\n",
        "# Using dir() to inspect class information\n",
        "attributes = dir(Pizza)\n",
        "print(\"Attributes of Pizza class:\", attributes)"
      ]
    },
    {
      "cell_type": "markdown",
      "source": [
        "## 2. Instantiating Objects Dynamically:\n",
        "\n",
        "In this example, ```globals()[class_name]``` retrieves the class object dynamically using the class name stored in the ```class_name``` variable, and then the instance is created using ```()```.\n",
        "\n",
        "\n"
      ],
      "metadata": {
        "id": "JJPUUmrXaIXb"
      }
    },
    {
      "cell_type": "code",
      "source": [
        "class Pizza:\n",
        "    def __init__(self, size, toppings):\n",
        "        self.size = size\n",
        "        self.toppings = toppings\n",
        "\n",
        "# Dynamically creating an instance of Pizza\n",
        "class_name = \"Pizza\"\n",
        "size = \"Large\"\n",
        "toppings = [\"Cheese\", \"Pepperoni\"]\n",
        "obj = globals()[class_name](size, toppings)\n",
        "\n",
        "print(\"Size:\", obj.size)\n",
        "print(\"Toppings:\", obj.toppings)"
      ],
      "metadata": {
        "colab": {
          "base_uri": "https://localhost:8080/"
        },
        "id": "sedHRmgTaELz",
        "outputId": "c788bf84-314c-4ee1-b937-e386f73a516a"
      },
      "execution_count": 8,
      "outputs": [
        {
          "output_type": "stream",
          "name": "stdout",
          "text": [
            "Size: Large\n",
            "Toppings: ['Cheese', 'Pepperoni']\n"
          ]
        }
      ]
    },
    {
      "cell_type": "markdown",
      "source": [
        "## 3. Invoking Methods Dynamically:\n",
        "\n",
        "In this example, ```getattr(person, method_name)``` retrieves the method object dynamically from the ```person``` instance using the method name stored in the ```method_name``` variable, and then the method is called using ```()```.\n",
        "\n"
      ],
      "metadata": {
        "id": "Rso6sWAPeOhq"
      }
    },
    {
      "cell_type": "code",
      "source": [
        "class Person:\n",
        "    def __init__(self, name, age):\n",
        "        self.name = name\n",
        "        self.age = age\n",
        "\n",
        "    def greet(self):\n",
        "        print(f\"Hello, my name is {self.name} and I am {self.age} years old.\")\n",
        "\n",
        "# Creating an instance of Person\n",
        "person = Person(\"Alice\", 30)\n",
        "\n",
        "# Dynamically calling the greet method\n",
        "method_name = \"greet\"\n",
        "method = getattr(person, method_name)\n",
        "method()"
      ],
      "metadata": {
        "colab": {
          "base_uri": "https://localhost:8080/"
        },
        "id": "ALmAJGekaVmH",
        "outputId": "ddd91e47-12fb-4d2b-952d-eef34fa387ea"
      },
      "execution_count": 9,
      "outputs": [
        {
          "output_type": "stream",
          "name": "stdout",
          "text": [
            "Hello, my name is Alice and I am 30 years old.\n"
          ]
        }
      ]
    },
    {
      "cell_type": "code",
      "source": [],
      "metadata": {
        "id": "3BaL22cveW03"
      },
      "execution_count": 6,
      "outputs": []
    }
  ]
}