{
  "nbformat": 4,
  "nbformat_minor": 0,
  "metadata": {
    "colab": {
      "provenance": []
    },
    "kernelspec": {
      "name": "python3",
      "display_name": "Python 3"
    },
    "language_info": {
      "name": "python"
    }
  },
  "cells": [
    {
      "cell_type": "markdown",
      "source": [
        "**In this example:**\n",
        "\n",
        "* *`BaseNotifier`* defines the interface for sending notifications.\n",
        "* *`EmailNotifier`* and *`SMSNotifier`* are concrete implementations of *`BaseNotifier`*.\n",
        "* *`Decorator`* is an abstract decorator class that wraps a *`BaseNotifier`* object.\n",
        "* *`PriorityDecorator`* and *`LoggingDecorator`* are concrete decorator classes that add priority and logging functionalities, respectively, to notifications.\n"
      ],
      "metadata": {
        "id": "6nDLdC7XZZcV"
      }
    },
    {
      "cell_type": "code",
      "execution_count": 2,
      "metadata": {
        "colab": {
          "base_uri": "https://localhost:8080/"
        },
        "id": "74AC9KqSZE_f",
        "outputId": "fadc3fb9-9fd3-4cd2-f675-ce80c8037e29"
      },
      "outputs": [
        {
          "output_type": "stream",
          "name": "stdout",
          "text": [
            "Logging the notification.\n",
            "Adding priority to the notification.\n",
            "Sending email notification: This is an important message!\n"
          ]
        }
      ],
      "source": [
        "class BaseNotifier:\n",
        "    def send_notification(self, message):\n",
        "        raise NotImplementedError(\"send_notification method must be implemented\")\n",
        "\n",
        "\n",
        "class EmailNotifier(BaseNotifier):\n",
        "    def send_notification(self, message):\n",
        "        print(\"Sending email notification:\", message)\n",
        "\n",
        "\n",
        "class SMSNotifier(BaseNotifier):\n",
        "    def send_notification(self, message):\n",
        "        print(\"Sending SMS notification:\", message)\n",
        "\n",
        "\n",
        "class Decorator(BaseNotifier):\n",
        "    def __init__(self, notifier):\n",
        "        self._notifier = notifier\n",
        "\n",
        "    def send_notification(self, message):\n",
        "        self._notifier.send_notification(message)\n",
        "\n",
        "\n",
        "class PriorityDecorator(Decorator):\n",
        "    def send_notification(self, message):\n",
        "        print(\"Adding priority to the notification.\")\n",
        "        super().send_notification(message)\n",
        "\n",
        "\n",
        "class LoggingDecorator(Decorator):\n",
        "    def send_notification(self, message):\n",
        "        print(\"Logging the notification.\")\n",
        "        super().send_notification(message)\n",
        "\n",
        "\n",
        "# Example usage\n",
        "if __name__ == \"__main__\":\n",
        "    # Create a base notifier\n",
        "    email_notifier = EmailNotifier()\n",
        "\n",
        "    # Create decorators and stack them\n",
        "    priority_email_notifier = PriorityDecorator(email_notifier)\n",
        "    logging_priority_email_notifier = LoggingDecorator(priority_email_notifier)\n",
        "\n",
        "    # Send notification\n",
        "    logging_priority_email_notifier.send_notification(\"This is an important message!\")"
      ]
    },
    {
      "cell_type": "code",
      "source": [],
      "metadata": {
        "id": "NR0pniYuZvOV"
      },
      "execution_count": null,
      "outputs": []
    }
  ]
}