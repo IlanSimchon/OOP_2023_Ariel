{
  "nbformat": 4,
  "nbformat_minor": 0,
  "metadata": {
    "colab": {
      "provenance": []
    },
    "kernelspec": {
      "name": "python3",
      "display_name": "Python 3"
    },
    "language_info": {
      "name": "python"
    }
  },
  "cells": [
    {
      "cell_type": "code",
      "execution_count": 2,
      "metadata": {
        "id": "irBqRi0CNfhl"
      },
      "outputs": [],
      "source": [
        "from sklearn.datasets import load_iris\n",
        "import pandas as pd\n",
        "\n",
        "# Load the Iris dataset\n",
        "iris = load_iris()\n",
        "\n",
        "# Convert the dataset into a pandas DataFrame\n",
        "data = pd.DataFrame(data=iris.data, columns=iris.feature_names)\n",
        "data['target'] = iris.target  # Add target column\n",
        "\n",
        "# Save the DataFrame to a CSV file\n",
        "data.to_csv('iris.csv', index=False)"
      ]
    },
    {
      "cell_type": "markdown",
      "source": [
        "**Data Cleaning and Preprocessing:**"
      ],
      "metadata": {
        "id": "V5G_ovLfnwcr"
      }
    },
    {
      "cell_type": "code",
      "source": [
        "# Load data from the CSV file\n",
        "data = pd.read_csv('iris.csv')\n",
        "\n",
        "# Remove duplicates\n",
        "data = data.drop_duplicates()\n",
        "\n",
        "# Fill missing values with the mean of the column\n",
        "data.fillna(data.mean(), inplace=True)\n",
        "\n",
        "# Remove rows with missing values\n",
        "data = data.dropna()\n",
        "\n",
        "# Convert string column to datetime (not applicable to Iris dataset)\n",
        "# Example: data['date_column'] = pd.to_datetime(data['date_column'])"
      ],
      "metadata": {
        "id": "nETJDRs3n031"
      },
      "execution_count": 3,
      "outputs": []
    },
    {
      "cell_type": "code",
      "source": [
        "print(data.columns)"
      ],
      "metadata": {
        "colab": {
          "base_uri": "https://localhost:8080/",
          "height": 0
        },
        "id": "d1kfX0sQooMD",
        "outputId": "7cb63443-19cc-4613-d683-2ffafd037f92"
      },
      "execution_count": 5,
      "outputs": [
        {
          "output_type": "stream",
          "name": "stdout",
          "text": [
            "Index(['sepal length (cm)', 'sepal width (cm)', 'petal length (cm)',\n",
            "       'petal width (cm)', 'target'],\n",
            "      dtype='object')\n"
          ]
        }
      ]
    },
    {
      "cell_type": "markdown",
      "source": [
        "**Data Selection and Filtering:**"
      ],
      "metadata": {
        "id": "FOG6F_AAn31V"
      }
    },
    {
      "cell_type": "code",
      "source": [
        "# Select rows where a condition is met\n",
        "filtered_data = data[data['sepal length (cm)'] > 5.0]\n",
        "\n",
        "# Select rows based on multiple conditions\n",
        "filtered_data = data[(data['sepal length (cm)'] > 5.0) & (data['sepal width (cm)'] == 3.0)]\n",
        "\n",
        "# Select specific columns\n",
        "selected_columns = data[['sepal length (cm)', 'sepal width (cm)']]\n",
        "\n",
        "# Select rows based on index\n",
        "row = data.loc[5]  # Select row with index 5"
      ],
      "metadata": {
        "id": "Tk0NaKGLn1WR"
      },
      "execution_count": 7,
      "outputs": []
    },
    {
      "cell_type": "markdown",
      "source": [
        "**Grouping and Aggregation:**"
      ],
      "metadata": {
        "id": "jHTOXCUGoA19"
      }
    },
    {
      "cell_type": "code",
      "source": [
        "# Group data by species\n",
        "grouped_data = data.groupby('target')\n",
        "\n",
        "# Calculate mean, sum, etc. within each group\n",
        "mean_values = grouped_data.mean()\n",
        "sum_values = grouped_data.sum()"
      ],
      "metadata": {
        "id": "nHa9OwmkoAOa"
      },
      "execution_count": 8,
      "outputs": []
    },
    {
      "cell_type": "markdown",
      "source": [
        "**Merging and Joining DataFrames:**"
      ],
      "metadata": {
        "id": "vj1qbP0roQRD"
      }
    },
    {
      "cell_type": "code",
      "source": [
        "# Merge two DataFrames on a common column\n",
        "# (Example: Merge with another copy of the same dataset for illustration purposes)\n",
        "merged_data = pd.merge(data, data, on='target')\n",
        "\n",
        "# Concatenate DataFrames along rows or columns\n",
        "concatenated_data = pd.concat([data.head(), data.tail()], axis=0)  # Concatenate along rows\n",
        "concatenated_data = pd.concat([data.head(), data.tail()], axis=1)  # Concatenate along columns"
      ],
      "metadata": {
        "id": "-uVhOLTaoJV0"
      },
      "execution_count": 9,
      "outputs": []
    },
    {
      "cell_type": "markdown",
      "source": [
        "**Data Visualization:**"
      ],
      "metadata": {
        "id": "bpDr4rK0oWeA"
      }
    },
    {
      "cell_type": "code",
      "source": [
        "import matplotlib.pyplot as plt\n",
        "\n",
        "# Plot histogram\n",
        "data['sepal length (cm)'].plot(kind='hist', bins=20)\n",
        "plt.title('Histogram of Sepal Length')\n",
        "plt.xlabel('Length (cm)')\n",
        "plt.ylabel('Frequency')\n",
        "plt.show()\n",
        "\n",
        "# Plot line chart (not applicable to Iris dataset)\n",
        "# Example: data.plot(x='date_column', y='numeric_column')"
      ],
      "metadata": {
        "colab": {
          "base_uri": "https://localhost:8080/",
          "height": 472
        },
        "id": "mee38qgooT5v",
        "outputId": "5206dfda-ef32-440d-c99f-fe7579d1381f"
      },
      "execution_count": 10,
      "outputs": [
        {
          "output_type": "display_data",
          "data": {
            "text/plain": [
              "<Figure size 640x480 with 1 Axes>"
            ],
            "image/png": "[encoded data removed]"
          },
          "metadata": {}
        }
      ]
    }
  ]
}