{
  "nbformat": 4,
  "nbformat_minor": 0,
  "metadata": {
    "colab": {
      "provenance": []
    },
    "kernelspec": {
      "name": "python3",
      "display_name": "Python 3"
    },
    "language_info": {
      "name": "python"
    }
  },
  "cells": [
    {
      "cell_type": "markdown",
      "source": [
        "**Creat new file**"
      ],
      "metadata": {
        "id": "LXhGvGB2ZD7f"
      }
    },
    {
      "cell_type": "code",
      "execution_count": 48,
      "metadata": {
        "id": "8yIBB_L2YeYZ"
      },
      "outputs": [],
      "source": [
        "# Creating a new file in write mode\n",
        "with open(\"new_file.txt\", \"w\") as file:\n",
        "    file.write(\"This is a new file created by Python!\\n\")"
      ]
    },
    {
      "cell_type": "code",
      "source": [
        "# Creating a new file only if it doesn't exist\n",
        "with open(\"new_file.txt\", \"x\") as file:\n",
        "    file.write(\"This is a new file created by Python!\\n\")\n",
        "\n",
        "\n",
        "# NOTE:\n",
        "#       This mode is used to create a new file, but if the file already exists, it will raise a FileExistsError.\n",
        "#       So, if \"new_file.txt\" does not exist, it will be created, and you'll be able to write to it."
      ],
      "metadata": {
        "colab": {
          "base_uri": "https://localhost:8080/",
          "height": 211
        },
        "id": "x1hkozHQYk3M",
        "outputId": "34e48a9e-e93e-4cdc-bef1-044827a4821a"
      },
      "execution_count": 32,
      "outputs": [
        {
          "output_type": "error",
          "ename": "FileExistsError",
          "evalue": "[Errno 17] File exists: 'new_file.txt'",
          "traceback": [
            "\u001b[0;31m---------------------------------------------------------------------------\u001b[0m",
            "\u001b[0;31mFileExistsError\u001b[0m                           Traceback (most recent call last)",
            "\u001b[0;32m<ipython-input-32-d480b1064b70>\u001b[0m in \u001b[0;36m<cell line: 2>\u001b[0;34m()\u001b[0m\n\u001b[1;32m      1\u001b[0m \u001b[0;31m# Creating a new file only if it doesn't exist\u001b[0m\u001b[0;34m\u001b[0m\u001b[0;34m\u001b[0m\u001b[0m\n\u001b[0;32m----> 2\u001b[0;31m \u001b[0;32mwith\u001b[0m \u001b[0mopen\u001b[0m\u001b[0;34m(\u001b[0m\u001b[0;34m\"new_file.txt\"\u001b[0m\u001b[0;34m,\u001b[0m \u001b[0;34m\"x\"\u001b[0m\u001b[0;34m)\u001b[0m \u001b[0;32mas\u001b[0m \u001b[0mfile\u001b[0m\u001b[0;34m:\u001b[0m\u001b[0;34m\u001b[0m\u001b[0;34m\u001b[0m\u001b[0m\n\u001b[0m\u001b[1;32m      3\u001b[0m     \u001b[0mfile\u001b[0m\u001b[0;34m.\u001b[0m\u001b[0mwrite\u001b[0m\u001b[0;34m(\u001b[0m\u001b[0;34m\"This is a new file created by Python!\\n\"\u001b[0m\u001b[0;34m)\u001b[0m\u001b[0;34m\u001b[0m\u001b[0;34m\u001b[0m\u001b[0m\n\u001b[1;32m      4\u001b[0m \u001b[0;34m\u001b[0m\u001b[0m\n\u001b[1;32m      5\u001b[0m \u001b[0;34m\u001b[0m\u001b[0m\n",
            "\u001b[0;31mFileExistsError\u001b[0m: [Errno 17] File exists: 'new_file.txt'"
          ]
        }
      ]
    },
    {
      "cell_type": "markdown",
      "source": [
        "**Open exist file**"
      ],
      "metadata": {
        "id": "b3ifo3ezZNOE"
      }
    },
    {
      "cell_type": "code",
      "source": [
        "# Opening a file in read mode\n",
        "file = open(\"new_file.txt\", \"r\")\n",
        "\n",
        "# Opening a file in write mode\n",
        "file = open(\"new_file.txt\", \"w\")\n",
        "\n",
        "# Opening a file in append mode\n",
        "file = open(\"new_file.txt\", \"a\")\n",
        "\n",
        "\n",
        "# NOTE:\n",
        "#       Each call to open() will close the file opened by the previous call and open it again with the new mode.\n",
        "#       In this case, the file will be open on mode 'a'."
      ],
      "metadata": {
        "id": "UPM7gzz1ZL-V"
      },
      "execution_count": 28,
      "outputs": []
    },
    {
      "cell_type": "markdown",
      "source": [
        "For multiple purposes, you can use:\n",
        "* \"r+\" for read/write mode\n",
        "* \"a+\" for append/read mode.\n"
      ],
      "metadata": {
        "id": "8ULyoK2nbmfj"
      }
    },
    {
      "cell_type": "code",
      "source": [
        "# Opening a file in read/write mode\n",
        "file = open(\"new_file.txt\", \"r+\")\n",
        "\n",
        "# # Opening a file in append/read mode\n",
        "# file = open(\"new_file.txt\", \"a+\")"
      ],
      "metadata": {
        "id": "DflJ9fEZa_0H"
      },
      "execution_count": 49,
      "outputs": []
    },
    {
      "cell_type": "markdown",
      "source": [
        "**Reading from an 'open' File**"
      ],
      "metadata": {
        "id": "za9NjMPZZWSu"
      }
    },
    {
      "cell_type": "code",
      "source": [
        "# Reading the entire file\n",
        "content = file.read()\n",
        "\n",
        "# Reading a single line\n",
        "line = file.readline()\n",
        "\n",
        "# Reading all lines into a list\n",
        "lines = file.readlines()"
      ],
      "metadata": {
        "id": "glQBchFDZezn"
      },
      "execution_count": 50,
      "outputs": []
    },
    {
      "cell_type": "code",
      "source": [
        "print(content)"
      ],
      "metadata": {
        "colab": {
          "base_uri": "https://localhost:8080/",
          "height": 0
        },
        "id": "mazRjZuyb-yr",
        "outputId": "e3114d14-4196-4d76-b0ea-9ac9a2a47eeb"
      },
      "execution_count": 51,
      "outputs": [
        {
          "output_type": "stream",
          "name": "stdout",
          "text": [
            "This is a new file created by Python!\n",
            "\n"
          ]
        }
      ]
    },
    {
      "cell_type": "markdown",
      "source": [
        "**Wright to exist file**"
      ],
      "metadata": {
        "id": "HjEtmTWwZh0q"
      }
    },
    {
      "cell_type": "code",
      "source": [
        "file.write(\"Hello, World!\\n\")"
      ],
      "metadata": {
        "id": "ncqCYCz6ZqXG"
      },
      "execution_count": null,
      "outputs": []
    },
    {
      "cell_type": "markdown",
      "source": [
        "**Close file**"
      ],
      "metadata": {
        "id": "dE1XHzYsZtZd"
      }
    },
    {
      "cell_type": "code",
      "source": [
        "file.close()"
      ],
      "metadata": {
        "id": "haQhZ-5FZtEc"
      },
      "execution_count": 27,
      "outputs": []
    },
    {
      "cell_type": "markdown",
      "source": [
        "**'With' block**"
      ],
      "metadata": {
        "id": "BHndodVIZ4fg"
      }
    },
    {
      "cell_type": "code",
      "source": [
        "with open(\"new_file.txt\", \"r\") as file:\n",
        "    content = file.read()\n",
        "    print(content)     # Do something with the content\n",
        "\n",
        "# File is automatically closed when exiting the 'with' block"
      ],
      "metadata": {
        "colab": {
          "base_uri": "https://localhost:8080/",
          "height": 0
        },
        "id": "nzNFUF6ZZ8EX",
        "outputId": "00758674-dc41-4f14-d605-36291500d4da"
      },
      "execution_count": 53,
      "outputs": [
        {
          "output_type": "stream",
          "name": "stdout",
          "text": [
            "This is a new file created by Python!\n",
            "\n"
          ]
        }
      ]
    },
    {
      "cell_type": "markdown",
      "source": [
        "# **Examples**"
      ],
      "metadata": {
        "id": "DFutKZIOg2by"
      }
    },
    {
      "cell_type": "code",
      "source": [
        "# Example 1\n",
        "\n",
        "with open(\"Example.txt\", \"w\") as file:\n",
        "    file.write(\"Hello World!\\n\")\n",
        "\n",
        "file = open(\"Example.txt\", \"r\")\n",
        "content = file.read()\n",
        "print(content)\n",
        "\n",
        "file.close()"
      ],
      "metadata": {
        "colab": {
          "base_uri": "https://localhost:8080/",
          "height": 0
        },
        "id": "95_LWEwlev0W",
        "outputId": "16aba30d-b41b-492d-9022-e65a740c518c"
      },
      "execution_count": 60,
      "outputs": [
        {
          "output_type": "stream",
          "name": "stdout",
          "text": [
            "Hello World!\n",
            "\n"
          ]
        }
      ]
    },
    {
      "cell_type": "code",
      "source": [
        "# Example 2:\n",
        "\n",
        "file = open(\"Example.txt\", \"a\")\n",
        "file.write(\"Adding information\\n\")\n",
        "# file.close()\n",
        "\n",
        "file = open(\"Example.txt\", \"r\")\n",
        "content = file.read()\n",
        "print(content)\n",
        "\n",
        "file.close()"
      ],
      "metadata": {
        "colab": {
          "base_uri": "https://localhost:8080/",
          "height": 0
        },
        "id": "_Mh9SQbQfDfW",
        "outputId": "37025325-d0ed-4868-e93e-c14dc70b1843"
      },
      "execution_count": 61,
      "outputs": [
        {
          "output_type": "stream",
          "name": "stdout",
          "text": [
            "Hello World!\n",
            "Adding information\n",
            "\n"
          ]
        }
      ]
    },
    {
      "cell_type": "code",
      "source": [
        "# Example 3\n",
        "\n",
        "file = open(\"Example.txt\", \"w\")\n",
        "file.write(\"Run Over information\\n\")\n",
        "# file.close()\n",
        "\n",
        "file = open(\"Example.txt\", \"r\")\n",
        "content = file.read()\n",
        "print(content)\n",
        "\n",
        "file.close()"
      ],
      "metadata": {
        "colab": {
          "base_uri": "https://localhost:8080/",
          "height": 0
        },
        "id": "aWwHpc-YgKfJ",
        "outputId": "e5eb154a-6fd0-41bd-b41f-c8524d09a631"
      },
      "execution_count": 62,
      "outputs": [
        {
          "output_type": "stream",
          "name": "stdout",
          "text": [
            "Run Over information\n",
            "\n"
          ]
        }
      ]
    },
    {
      "cell_type": "code",
      "source": [],
      "metadata": {
        "id": "wIZo5NaIhSRE"
      },
      "execution_count": null,
      "outputs": []
    }
  ]
}