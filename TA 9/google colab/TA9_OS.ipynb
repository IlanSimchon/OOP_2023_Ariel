{
  "nbformat": 4,
  "nbformat_minor": 0,
  "metadata": {
    "colab": {
      "provenance": []
    },
    "kernelspec": {
      "name": "python3",
      "display_name": "Python 3"
    },
    "language_info": {
      "name": "python"
    }
  },
  "cells": [
    {
      "cell_type": "code",
      "source": [
        "import os  # Importing the os module\n",
        "\n",
        "# Get the current working directory\n",
        "current_directory = os.getcwd()  # Task: File and Directory Operations\n",
        "\n",
        "# List files and directories in a directory\n",
        "files_and_directories = os.listdir(current_directory)  # Task: File and Directory Operations\n",
        "\n",
        "# Create a new directory\n",
        "os.mkdir(\"new_directory\")  # Task: File and Directory Operations\n",
        "\n",
        "# Rename a file or directory\n",
        "os.rename(\"old_name.txt\", \"new_name.txt\")  # Task: File and Directory Operations\n",
        "\n",
        "# Delete a file\n",
        "os.remove(\"file_to_delete.txt\")  # Task: File and Directory Operations\n",
        "\n",
        "# Check if a file exists\n",
        "if os.path.exists(\"file.txt\"):  # Task: File and Directory Operations\n",
        "    print(\"File exists\")\n",
        "else:\n",
        "    print(\"File does not exist\")\n",
        "\n",
        "# Execute a shell command\n",
        "os.system(\"ls\")  # Task: Process Management\n",
        "\n",
        "# Get the value of an environment variable\n",
        "python_path = os.getenv(\"PYTHONPATH\")  # Task: Environment Variables\n",
        "\n",
        "# Get platform information\n",
        "platform_name = os.name  # Task: Platform Information\n",
        "path_separator = os.path.sep  # Task: Platform Information"
      ],
      "metadata": {
        "id": "TXAJnXGtTWht"
      },
      "execution_count": null,
      "outputs": []
    },
    {
      "cell_type": "code",
      "source": [],
      "metadata": {
        "id": "-ejj5kyClZDN"
      },
      "execution_count": 1,
      "outputs": []
    }
  ]
}