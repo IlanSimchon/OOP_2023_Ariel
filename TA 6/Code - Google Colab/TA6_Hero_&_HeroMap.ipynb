{
  "nbformat": 4,
  "nbformat_minor": 0,
  "metadata": {
    "colab": {
      "provenance": []
    },
    "kernelspec": {
      "name": "python3",
      "display_name": "Python 3"
    },
    "language_info": {
      "name": "python"
    }
  },
  "cells": [
    {
      "cell_type": "markdown",
      "source": [
        "# Hero"
      ],
      "metadata": {
        "id": "6GLlFcPUr6hp"
      }
    },
    {
      "cell_type": "code",
      "execution_count": 4,
      "metadata": {
        "colab": {
          "base_uri": "https://localhost:8080/"
        },
        "id": "ES0biLFArhmi",
        "outputId": "4d8d25ba-ef51-4457-a78d-817fd81985f9"
      },
      "outputs": [
        {
          "output_type": "stream",
          "name": "stdout",
          "text": [
            "(Batman\t 100)\n",
            "(Batman\t 100)\n",
            "(Batman, 100)\n",
            "(Batman, 100)\n",
            "original:\n",
            "[(Batman, 100), (Superman, 200), (GreenLantern, 150), (WonderWoman, 180), (Batgirl, 120), (Batkid, 90)]\n",
            "sort by power:\n",
            "[(Batkid, 90), (Batman, 100), (Batgirl, 120), (GreenLantern, 150), (WonderWoman, 180), (Superman, 200)]\n",
            "sort by the length of the name:\n",
            "[(Batman, 100), (Batkid, 90), (Batgirl, 120), (Superman, 200), (WonderWoman, 180), (GreenLantern, 150)]\n",
            "lexicographically:\n",
            "[(Batgirl, 120), (Batkid, 90), (Batman, 100), (GreenLantern, 150), (Superman, 200), (WonderWoman, 180)]\n",
            "default:\n",
            "[(Batman, 100), (Superman, 200), (GreenLantern, 150), (WonderWoman, 180), (Batgirl, 120), (Batkid, 90)]\n",
            "Lexicographically\n",
            "[(Batgirl, 120), (Batkid, 90), (Batman, 100), (GreenLantern, 150), (Superman, 200), (WonderWoman, 180)]\n",
            "by power and then lexicographically\n",
            "[(Batkid, 90), (Batman, 100), (Batgirl, 120), (GreenLantern, 150), (WonderWoman, 180), (Superman, 200)]\n",
            "lexicographically and then by power\n",
            "[(Batgirl, 120), (Batkid, 90), (Batman, 100), (GreenLantern, 150), (Superman, 200), (WonderWoman, 180)]\n"
          ]
        }
      ],
      "source": [
        "import functools\n",
        "\n",
        "\"\"\"In order to create comparator of obejects we need to suppert both equals and less than operators, by doing\n",
        "    that we can use sorted function and sort by \"<\" operator.\n",
        "    In any case we would like to create a comparator that can compare by multiple parameters, like power, length of\n",
        "    a string, lexicographically and anything else you can think of, we have to create our own comparator and implement\n",
        "    the sort methods.\"\"\"\n",
        "\n",
        "\n",
        "class Hero:\n",
        "    def __init__(self, name, power):\n",
        "        self.name = name\n",
        "        self.power = power\n",
        "\n",
        "    \"\"\"Support the == operators between Hero objects\"\"\"\n",
        "\n",
        "    def __eq__(self, other):\n",
        "        if not isinstance(other, Hero):\n",
        "            return False\n",
        "        if self.name == other.name and self.power == other.power:\n",
        "            return True\n",
        "        return False\n",
        "\n",
        "    \"\"\"Support the < operator\"\"\"\n",
        "\n",
        "    def __lt__(self, other):\n",
        "        return self.power < other.power\n",
        "\n",
        "    \"\"\"Support \"toString\" of Hero object in python\"\"\"\n",
        "\n",
        "    def __repr__(self):\n",
        "        return \"(\" + self.name + \", \" + str(self.power) + \")\"\n",
        "\n",
        "    def __str__(self):\n",
        "        return \"(\" + self.name + \"\\t \" + str(self.power) + \")\"\n",
        "\n",
        "    def __hash__(self):\n",
        "        return hash(self.__repr__())\n",
        "\n",
        "\n",
        "class HeroComparator:\n",
        "    \"\"\"collection is a list of heroes\"\"\"\n",
        "\n",
        "    def __init__(self, collection):\n",
        "        self.collection = collection\n",
        "\n",
        "    \"\"\"This function is a comparator of a collection of Hero objects. The function get the Integer compare type and\n",
        "        return a sorted collection according to the compare type.\n",
        "    \"\"\"\n",
        "\n",
        "    def sort_by_type(self, comp_type: int):\n",
        "        if comp_type == 0:  # compare by power\n",
        "            return sorted(self.collection)\n",
        "        elif comp_type == 1:  # compare by the length of the name\n",
        "            return sorted(self.collection, key=lambda x: len(x.name), reverse=False)\n",
        "        elif comp_type == 2:  # compare lexicographically\n",
        "            return sorted(self.collection, key=lambda x: x.name, reverse=False)\n",
        "        elif comp_type == 3:  # compare by power and then lexicographically\n",
        "            return sorted(self.collection, key=lambda x: (x.power, x.name), reverse=False)\n",
        "        elif comp_type == 4:  # compare lexicographically and then by power\n",
        "            return sorted(self.collection, key=lambda x: (x.name, x.power), reverse=False)\n",
        "        else:  # not sort\n",
        "            return self.collection\n",
        "\n",
        "\n",
        "if __name__ == '__main__':\n",
        "    h1 = Hero(\"Batman\", 100)\n",
        "    print(str(h1))\n",
        "    print(h1.__str__())\n",
        "    print(repr(h1))\n",
        "    print(h1.__repr__())\n",
        "    h2 = Hero(\"Superman\", 200)\n",
        "    h3 = Hero(\"GreenLantern\", 150)\n",
        "    h4 = Hero(\"WonderWoman\", 180)\n",
        "    h5 = Hero(\"Batgirl\", 120)\n",
        "    h6 = Hero(\"Batkid\", 90)\n",
        "    li = [h1, h2, h3, h4, h5, h6]\n",
        "    print(\"original:\")\n",
        "    print(li)\n",
        "    l = sorted(li)\n",
        "    print(\"sort by power:\")\n",
        "    print(l)\n",
        "    l2 = sorted(li, key=lambda x: len(x.name), reverse=False)\n",
        "    print(\"sort by the length of the name:\")\n",
        "    print(l2)\n",
        "    l3 = sorted(li, key=lambda x: str(x.name), reverse=False)\n",
        "    print(\"lexicographically:\")\n",
        "    print(l3)\n",
        "    hc = HeroComparator(li)\n",
        "    print(\"default:\")\n",
        "    print(hc.sort_by_type(-1))\n",
        "    print(\"Lexicographically\")\n",
        "    print(hc.sort_by_type(2))\n",
        "    print(\"by power and then lexicographically\")\n",
        "    print(hc.sort_by_type(3))\n",
        "    print(\"lexicographically and then by power\")\n",
        "    print(hc.sort_by_type(4))"
      ]
    },
    {
      "cell_type": "markdown",
      "source": [
        "# HeroMap"
      ],
      "metadata": {
        "id": "kgi5HZAxsCPi"
      }
    },
    {
      "cell_type": "code",
      "source": [
        "# from Hero import Hero\n",
        "\n",
        "\n",
        "class Point:\n",
        "    def __init__(self, x: float, y: float):\n",
        "        self.x = x\n",
        "        self.y = y\n",
        "\n",
        "    def __repr__(self):\n",
        "        return str(self.x) + \", \" + str(self.y)\n",
        "\n",
        "\n",
        "class Area:\n",
        "    def __init__(self, p: Point, radius: float):\n",
        "        self.center = p\n",
        "        self.radius = radius\n",
        "\n",
        "    def __repr__(self):\n",
        "        return \"((\"+str(self.center)+\"),\\t\" + str(self.radius)+\")\"\n",
        "\n",
        "\n",
        "class HeroMap:\n",
        "    def __init__(self):\n",
        "        self.map = dict()\n",
        "\n",
        "    # In order to use Hero object as keys, we have to make it hashable by implementing __hash__ function in Hero class\n",
        "\n",
        "    def add_hero(self, h: Hero, a: Area):\n",
        "        self.map[h] = a\n",
        "\n",
        "    def __len__(self):\n",
        "        return len(self.map)\n",
        "\n",
        "    def __iter__(self):\n",
        "        return self.map.__iter__()\n",
        "\n",
        "    def get_heroes(self):\n",
        "        return self.map.keys()\n",
        "\n",
        "    def get_areas(self):\n",
        "        return self.map.values()\n",
        "\n",
        "    def get_pairs(self):\n",
        "        return self.map.items()\n",
        "\n",
        "    def contains(self, h: Hero):\n",
        "        return self.map.get(h) is not None\n",
        "\n",
        "    def get(self, h: Hero):\n",
        "        return self.map.get(h)\n",
        "\n",
        "\n",
        "if __name__ == '__main__':\n",
        "    h1 = Hero(\"Batman\", 100)\n",
        "    h2 = Hero(\"Superman\", 200)\n",
        "    h3 = Hero(\"GreenLantern\", 150)\n",
        "    h4 = Hero(\"WonderWoman\", 180)\n",
        "    h5 = Hero(\"Batgirl\", 120)\n",
        "    h6 = Hero(\"Batkid\", 90)\n",
        "    a1 = Area(Point(0, 0), 5)\n",
        "    a2 = Area(Point(40, 28), 5)\n",
        "    a3 = Area(Point(13, 4), 5)\n",
        "    a4 = Area(Point(9, 63), 5)\n",
        "    a5 = Area(Point(48, 14), 5)\n",
        "    a6 = Area(Point(19, 13), 5)\n",
        "    map = HeroMap()\n",
        "    map.add_hero(h1, a1)\n",
        "    map.add_hero(h2, a2)\n",
        "    map.add_hero(h3, a3)\n",
        "    map.add_hero(h4, a4)\n",
        "    map.add_hero(h5, a5)\n",
        "    map.add_hero(h6, a6)\n",
        "    print(map.get(h1))\n",
        "    print(map.get(Hero(\"pc\", 500)))\n",
        "    for h in map:\n",
        "        print(h)"
      ],
      "metadata": {
        "colab": {
          "base_uri": "https://localhost:8080/"
        },
        "id": "ODTDFiearuc1",
        "outputId": "f41ff268-32e9-459e-f4a5-d608e2c1bfe2"
      },
      "execution_count": 5,
      "outputs": [
        {
          "output_type": "stream",
          "name": "stdout",
          "text": [
            "((0, 0),\t5)\n",
            "None\n",
            "(Batman\t 100)\n",
            "(Superman\t 200)\n",
            "(GreenLantern\t 150)\n",
            "(WonderWoman\t 180)\n",
            "(Batgirl\t 120)\n",
            "(Batkid\t 90)\n"
          ]
        }
      ]
    },
    {
      "cell_type": "code",
      "source": [],
      "metadata": {
        "id": "t4w5gS2_r9E1"
      },
      "execution_count": null,
      "outputs": []
    }
  ]
}