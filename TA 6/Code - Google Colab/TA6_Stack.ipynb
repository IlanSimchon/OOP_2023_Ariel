{
  "nbformat": 4,
  "nbformat_minor": 0,
  "metadata": {
    "colab": {
      "provenance": []
    },
    "kernelspec": {
      "name": "python3",
      "display_name": "Python 3"
    },
    "language_info": {
      "name": "python"
    }
  },
  "cells": [
    {
      "cell_type": "code",
      "execution_count": 3,
      "metadata": {
        "id": "3guYzTMfsVyT"
      },
      "outputs": [],
      "source": [
        "class Stack:\n",
        "    def __init__(self):\n",
        "        self.elements = []\n",
        "        self.counter = 0\n",
        "\n",
        "    def push(self, val):\n",
        "        self.elements.insert(0, val)\n",
        "        self.counter += 1\n",
        "\n",
        "    def pop(self):\n",
        "        if self.counter > 0:\n",
        "            self.elements.pop(0)\n",
        "        else:\n",
        "            raise Exception(\"The stack is empty\")\n",
        "\n",
        "    def top(self):\n",
        "        if self.counter > 0:\n",
        "            return self.elements[0]\n",
        "        else:\n",
        "            raise Exception(\"The stack is empty\")\n",
        "\n",
        "    def __iter__(self):\n",
        "        self.current = -1\n",
        "        return self\n",
        "\n",
        "    def __next__(self):\n",
        "        self.current += 1\n",
        "        if self.current < self.counter:\n",
        "            return self.elements[self.current]\n",
        "        else:\n",
        "            del self.current"
      ]
    },
    {
      "cell_type": "code",
      "source": [
        "if __name__ == '__main__':\n",
        "    s = Stack()\n",
        "    s.push(1)\n",
        "    s.push(2)\n",
        "    s.push(3)\n",
        "    s.push(4)\n",
        "    s.push(5)\n",
        "    s.push(6)\n",
        "    s.push(7)\n",
        "    s.push(8)\n",
        "    it = s.__iter__()\n",
        "    print(next(it))"
      ],
      "metadata": {
        "colab": {
          "base_uri": "https://localhost:8080/"
        },
        "id": "0JjJ2BqRtCqs",
        "outputId": "75d02fed-41e7-4928-9f8b-be78504aaa4f"
      },
      "execution_count": 4,
      "outputs": [
        {
          "output_type": "stream",
          "name": "stdout",
          "text": [
            "8\n"
          ]
        }
      ]
    },
    {
      "cell_type": "code",
      "source": [],
      "metadata": {
        "id": "f8GawL2VtDL9"
      },
      "execution_count": 4,
      "outputs": []
    }
  ]
}