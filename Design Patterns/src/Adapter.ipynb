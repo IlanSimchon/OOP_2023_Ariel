{
  "nbformat": 4,
  "nbformat_minor": 0,
  "metadata": {
    "colab": {
      "provenance": [],
      "gpuType": "T4"
    },
    "kernelspec": {
      "name": "python3",
      "display_name": "Python 3"
    },
    "language_info": {
      "name": "python"
    },
    "accelerator": "GPU"
  },
  "cells": [
    {
      "cell_type": "markdown",
      "source": [
        "# Problem"
      ],
      "metadata": {
        "id": "7jqisAuV9gMX"
      }
    },
    {
      "cell_type": "markdown",
      "source": [
        "### Existing Payment Gateway Interface and Implementation\n",
        "\n",
        "First, we'll define the existing payment gateway interface and its implementation:\n"
      ],
      "metadata": {
        "id": "jyyssdnV7eo9"
      }
    },
    {
      "cell_type": "code",
      "source": [
        "# Existing payment gateway interface\n",
        "class OldPaymentGateway:\n",
        "    def make_payment(self, amount):\n",
        "        pass\n",
        "\n",
        "# Existing implementation\n",
        "class OldPaymentGatewayImpl(OldPaymentGateway):\n",
        "    def make_payment(self, amount):\n",
        "        print(f\"Payment of {amount} made using the old payment gateway.\")"
      ],
      "metadata": {
        "id": "JiSnSNio7dDb"
      },
      "execution_count": null,
      "outputs": []
    },
    {
      "cell_type": "markdown",
      "source": [
        "### New Payment Gateway Interface and Implementation\n",
        "\n",
        "Next, we'll define the new payment gateway interface and its implementation:"
      ],
      "metadata": {
        "id": "CC5UPL0n7pEA"
      }
    },
    {
      "cell_type": "code",
      "source": [
        "# New payment gateway interface\n",
        "class NewPaymentGateway:\n",
        "    def process_payment(self, amount, currency):\n",
        "        pass\n",
        "\n",
        "# New implementation\n",
        "class NewPaymentGatewayImpl(NewPaymentGateway):\n",
        "    def process_payment(self, amount, currency):\n",
        "        print(f\"Payment of {amount} {currency} made using the new payment gateway.\")"
      ],
      "metadata": {
        "id": "vBsNByz67lrf"
      },
      "execution_count": null,
      "outputs": []
    },
    {
      "cell_type": "markdown",
      "source": [
        "The problem arises because the new payment gateway's interface (`NewPaymentGateway`) is not compatible with the existing code that uses the old payment gateway's interface (`OldPaymentGateway`).\n",
        "\n",
        "Changing the entire codebase to accommodate the new payment gateway's interface would be costly and error-prone."
      ],
      "metadata": {
        "id": "-DAEt4Ez87NU"
      }
    },
    {
      "cell_type": "markdown",
      "source": [
        "# Solution"
      ],
      "metadata": {
        "id": "8mtqnDUF9r_i"
      }
    },
    {
      "cell_type": "markdown",
      "source": [
        "### Adapter Class\n",
        "\n",
        "Now, we'll create the adapter class that implements the old payment gateway interface and uses an instance of the new payment gateway to process payments:"
      ],
      "metadata": {
        "id": "wvAmTYty7033"
      }
    },
    {
      "cell_type": "code",
      "source": [
        "# Adapter class\n",
        "class PaymentGatewayAdapter(OldPaymentGateway):\n",
        "    def __init__(self, new_payment_gateway):\n",
        "        self.new_payment_gateway = new_payment_gateway\n",
        "\n",
        "    def make_payment(self, amount):\n",
        "        # Adapting the method call\n",
        "        self.new_payment_gateway.process_payment(amount, \"USD\")"
      ],
      "metadata": {
        "id": "6p_2tjsJ75oa"
      },
      "execution_count": null,
      "outputs": []
    },
    {
      "cell_type": "markdown",
      "source": [
        "### Using the Adapter\n",
        "\n",
        "Finally, we'll demonstrate how to use the adapter to integrate the new payment gateway without changing the existing code that relies on the old payment gateway interface:"
      ],
      "metadata": {
        "id": "6VWoEZiI7-Rs"
      }
    },
    {
      "cell_type": "code",
      "source": [
        "# Using the old payment gateway\n",
        "old_payment = OldPaymentGatewayImpl()\n",
        "old_payment.make_payment(100.0)"
      ],
      "metadata": {
        "colab": {
          "base_uri": "https://localhost:8080/"
        },
        "id": "m-QGmu1z79go",
        "outputId": "64d3988e-3ea8-4e2f-ccbd-76efcfd1c75e"
      },
      "execution_count": null,
      "outputs": [
        {
          "output_type": "stream",
          "name": "stdout",
          "text": [
            "Payment of 100.0 made using the old payment gateway.\n"
          ]
        }
      ]
    },
    {
      "cell_type": "code",
      "source": [
        "# Using the new payment gateway via the adapter\n",
        "new_payment_gateway = NewPaymentGatewayImpl()\n",
        "adapter = PaymentGatewayAdapter(new_payment_gateway)\n",
        "adapter.make_payment(150.0)"
      ],
      "metadata": {
        "colab": {
          "base_uri": "https://localhost:8080/"
        },
        "id": "yLg9vVf48Mej",
        "outputId": "9be2e72f-db44-4e3b-a81c-068b95cd3661"
      },
      "execution_count": null,
      "outputs": [
        {
          "output_type": "stream",
          "name": "stdout",
          "text": [
            "Payment of 150.0 USD made using the new payment gateway.\n"
          ]
        }
      ]
    }
  ]
}