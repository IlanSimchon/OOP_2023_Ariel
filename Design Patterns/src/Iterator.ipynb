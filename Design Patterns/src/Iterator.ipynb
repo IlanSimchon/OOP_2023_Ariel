{
  "nbformat": 4,
  "nbformat_minor": 0,
  "metadata": {
    "colab": {
      "provenance": []
    },
    "kernelspec": {
      "name": "python3",
      "display_name": "Python 3"
    },
    "language_info": {
      "name": "python"
    }
  },
  "cells": [
    {
      "cell_type": "markdown",
      "source": [
        "**In this example:**\n",
        "\n",
        "We define a simple binary tree collection (`BinaryTree`) and an iterator (`TreeIterator`) specifically designed for traversing the binary tree in an in-order manner. The iterator employs a stack to simulate the *depth-first traversal* (in-order traversal method).\n",
        "\n",
        "\n",
        "\n",
        "---\n",
        "\n",
        "\n",
        "Here's how it works:\n",
        "\n",
        "1. The iterator starts at the root node of the binary tree.\n",
        "2. It traverses all the left nodes of the current node until it reaches a leaf node, pushing each node onto a stack.\n",
        "3. Once it reaches a leaf node or a node with no left child, it pops a node from the stack and returns its value.\n",
        "4. Then, it moves to the right child of the popped node and repeats steps 2-3 until all nodes are traversed.\n",
        "\n",
        "\n",
        "---\n",
        "\n",
        "\n",
        "By using the Iterator pattern, we can traverse the binary tree without exposing its internal structure.\n",
        "\n",
        "This allows the client code to work with various traversal algorithms without the need to modify the binary tree implementation itself."
      ],
      "metadata": {
        "id": "NpDPxR3LjNlP"
      }
    },
    {
      "cell_type": "code",
      "source": [
        "# Define a node for the binary tree\n",
        "class TreeNode:\n",
        "    def __init__(self, value):\n",
        "        self.value = value\n",
        "        self.left = None\n",
        "        self.right = None\n",
        "\n",
        "# Define an iterator for the binary tree\n",
        "class TreeIterator:\n",
        "    def __init__(self, root):\n",
        "        self.stack = []\n",
        "        self._traverse_left(root)\n",
        "\n",
        "    def has_next(self):\n",
        "        return len(self.stack) > 0\n",
        "\n",
        "    def next(self):\n",
        "        if not self.has_next():\n",
        "            return None\n",
        "        node = self.stack.pop()\n",
        "        self._traverse_left(node.right)\n",
        "        return node.value\n",
        "\n",
        "    def _traverse_left(self, node):\n",
        "        while node:\n",
        "            self.stack.append(node)\n",
        "            node = node.left\n",
        "\n",
        "# Define a binary tree collection\n",
        "class BinaryTree:\n",
        "    def __init__(self):\n",
        "        self.root = None\n",
        "\n",
        "    def insert(self, value):\n",
        "        if not self.root:\n",
        "            self.root = TreeNode(value)\n",
        "        else:\n",
        "            self._insert_recursive(self.root, value)\n",
        "\n",
        "    def _insert_recursive(self, node, value):\n",
        "        if value < node.value:\n",
        "            if node.left is None:\n",
        "                node.left = TreeNode(value)\n",
        "            else:\n",
        "                self._insert_recursive(node.left, value)\n",
        "        else:\n",
        "            if node.right is None:\n",
        "                node.right = TreeNode(value)\n",
        "            else:\n",
        "                self._insert_recursive(node.right, value)\n",
        "\n",
        "    def create_iterator(self):\n",
        "        return TreeIterator(self.root)\n",
        "\n",
        "    def _print_tree(self, node, level=0):\n",
        "        if node is not None:\n",
        "            self._print_tree(node.right, level + 1)\n",
        "            print(' ' * 4 * level + '->', node.value)\n",
        "            self._print_tree(node.left, level + 1)\n",
        "\n",
        "    def print_tree(self):\n",
        "        self._print_tree(self.root)\n",
        "\n",
        "# Client code\n",
        "def main():\n",
        "    tree = BinaryTree()\n",
        "    tree.insert(5)\n",
        "    tree.insert(3)\n",
        "    tree.insert(7)\n",
        "    tree.insert(2)\n",
        "    tree.insert(4)\n",
        "    tree.insert(6)\n",
        "    tree.insert(8)\n",
        "\n",
        "    # Print the binary tree\n",
        "    print(\"Binary Tree:\")\n",
        "    tree.print_tree()\n",
        "    print(\"\\nElements traversed using Iterator:\")\n",
        "\n",
        "    # Create an iterator for the binary tree\n",
        "    iterator = tree.create_iterator()\n",
        "\n",
        "    # Traverse the binary tree using the iterator\n",
        "    while iterator.has_next():\n",
        "        print(iterator.next())\n",
        "\n",
        "if __name__ == \"__main__\":\n",
        "    main()\n"
      ],
      "metadata": {
        "colab": {
          "base_uri": "https://localhost:8080/"
        },
        "id": "N-YR8t7AllRD",
        "outputId": "915fdd36-6860-420c-8dfd-fce5f941cd42"
      },
      "execution_count": 2,
      "outputs": [
        {
          "output_type": "stream",
          "name": "stdout",
          "text": [
            "Binary Tree:\n",
            "        -> 8\n",
            "    -> 7\n",
            "        -> 6\n",
            "-> 5\n",
            "        -> 4\n",
            "    -> 3\n",
            "        -> 2\n",
            "\n",
            "Elements traversed using Iterator:\n",
            "2\n",
            "3\n",
            "4\n",
            "5\n",
            "6\n",
            "7\n",
            "8\n"
          ]
        }
      ]
    },
    {
      "cell_type": "code",
      "source": [],
      "metadata": {
        "id": "a_7arnLxkdef"
      },
      "execution_count": null,
      "outputs": []
    }
  ]
}