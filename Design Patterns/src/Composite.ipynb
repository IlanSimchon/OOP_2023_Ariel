{
  "nbformat": 4,
  "nbformat_minor": 0,
  "metadata": {
    "colab": {
      "provenance": []
    },
    "kernelspec": {
      "name": "python3",
      "display_name": "Python 3"
    },
    "language_info": {
      "name": "python"
    }
  },
  "cells": [
    {
      "cell_type": "markdown",
      "source": [
        "First, define a common interface for all file system elements:"
      ],
      "metadata": {
        "id": "FpkQen9m_0-t"
      }
    },
    {
      "cell_type": "code",
      "source": [
        "from abc import ABC, abstractmethod\n",
        "\n",
        "class FileSystemElement(ABC):\n",
        "    @abstractmethod\n",
        "    def get_name(self):\n",
        "        pass\n",
        "\n",
        "    @abstractmethod\n",
        "    def get_size(self):\n",
        "        pass"
      ],
      "metadata": {
        "id": "iwsHxi7RC89N"
      },
      "execution_count": null,
      "outputs": []
    },
    {
      "cell_type": "markdown",
      "source": [
        "Next, implement the leaf class representing individual files:"
      ],
      "metadata": {
        "id": "sPqSgS6RDHBv"
      }
    },
    {
      "cell_type": "code",
      "source": [
        "class File(FileSystemElement):\n",
        "    def __init__(self, name, size):\n",
        "        self.name = name\n",
        "        self.size = size\n",
        "\n",
        "    def get_name(self):\n",
        "        return self.name\n",
        "\n",
        "    def get_size(self):\n",
        "        return self.size"
      ],
      "metadata": {
        "id": "KTcWXxgkDCTT"
      },
      "execution_count": null,
      "outputs": []
    },
    {
      "cell_type": "markdown",
      "source": [
        "Then, implement the composite class that can contain both individual files and other directories:"
      ],
      "metadata": {
        "id": "tdWSPIUGDMYi"
      }
    },
    {
      "cell_type": "code",
      "source": [
        "class Directory(FileSystemElement):\n",
        "    def __init__(self, name):\n",
        "        self.name = name\n",
        "        self.elements = []\n",
        "\n",
        "    def add(self, element):\n",
        "        self.elements.append(element)\n",
        "\n",
        "    def remove(self, element):\n",
        "        self.elements.remove(element)\n",
        "\n",
        "    def get_name(self):\n",
        "        return self.name\n",
        "\n",
        "    def get_size(self):\n",
        "        total_size = 0\n",
        "        for element in self.elements:\n",
        "            total_size += element.get_size()\n",
        "        return total_size"
      ],
      "metadata": {
        "id": "V6fIqxGeDNZR"
      },
      "execution_count": null,
      "outputs": []
    },
    {
      "cell_type": "markdown",
      "source": [
        "Now, you can use the composite pattern to create complex structures of files and directories:"
      ],
      "metadata": {
        "id": "jPmYEZRqDPwk"
      }
    },
    {
      "cell_type": "code",
      "source": [
        "# Creating individual files\n",
        "file1 = File(\"file1.txt\", 100)\n",
        "file2 = File(\"file2.txt\", 200)\n",
        "file3 = File(\"file3.txt\", 300)\n",
        "\n",
        "# Creating a directory and adding files to it\n",
        "directory1 = Directory(\"dir1\")\n",
        "directory1.add(file1)\n",
        "directory1.add(file2)\n",
        "\n",
        "# Creating another directory and adding files and subdirectories to it\n",
        "directory2 = Directory(\"dir2\")\n",
        "directory2.add(file3)\n",
        "directory2.add(directory1)  # Adding directory1 to directory2\n",
        "\n",
        "# Listing names and sizes\n",
        "print(f\"{directory1.get_name()} size: {directory1.get_size()} bytes\")\n",
        "print(f\"{directory2.get_name()} size: {directory2.get_size()} bytes\")"
      ],
      "metadata": {
        "colab": {
          "base_uri": "https://localhost:8080/"
        },
        "id": "QoCFr1uLDSiY",
        "outputId": "478754b9-4bf8-4826-c613-cd5001529f24"
      },
      "execution_count": null,
      "outputs": [
        {
          "output_type": "stream",
          "name": "stdout",
          "text": [
            "dir1 size: 300 bytes\n",
            "dir2 size: 600 bytes\n"
          ]
        }
      ]
    },
    {
      "cell_type": "code",
      "source": [],
      "metadata": {
        "id": "JbjN0MvqDgg2"
      },
      "execution_count": null,
      "outputs": []
    }
  ]
}