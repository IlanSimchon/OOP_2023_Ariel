{
  "nbformat": 4,
  "nbformat_minor": 0,
  "metadata": {
    "colab": {
      "provenance": []
    },
    "kernelspec": {
      "name": "python3",
      "display_name": "Python 3"
    },
    "language_info": {
      "name": "python"
    }
  },
  "cells": [
    {
      "cell_type": "markdown",
      "source": [
        "# Step 1: Define the Model\n",
        "\n",
        "The model represents the data and the business logic of the application."
      ],
      "metadata": {
        "id": "MYf8jEwbGkj5"
      }
    },
    {
      "cell_type": "code",
      "execution_count": null,
      "metadata": {
        "id": "B7eLVRyiGj1n"
      },
      "outputs": [],
      "source": [
        "class TodoModel:\n",
        "    def __init__(self):\n",
        "        self.todos = []\n",
        "\n",
        "    def add_todo(self, todo):\n",
        "        self.todos.append(todo)\n",
        "\n",
        "    def remove_todo(self, todo):\n",
        "        self.todos.remove(todo)\n",
        "\n",
        "    def get_todos(self):\n",
        "        return self.todos"
      ]
    },
    {
      "cell_type": "markdown",
      "source": [
        "# Step 2: Define the View\n",
        "\n",
        "The view is responsible for displaying the data to the user."
      ],
      "metadata": {
        "id": "DJUxEMDXGudb"
      }
    },
    {
      "cell_type": "code",
      "source": [
        "class TodoView:\n",
        "    def display_todos(self, todos):\n",
        "        for i, todo in enumerate(todos, 1):\n",
        "            print(f\"{i}. {todo}\")\n",
        "\n",
        "    def prompt_for_new_todo(self):\n",
        "        return input(\"Enter a new to-do item: \")\n",
        "\n",
        "    def prompt_for_todo_to_remove(self):\n",
        "        return int(input(\"Enter the number of the to-do item to remove: \"))"
      ],
      "metadata": {
        "id": "VHXCLRttGyt2"
      },
      "execution_count": null,
      "outputs": []
    },
    {
      "cell_type": "markdown",
      "source": [
        "# Step 3: Define the Controller\n",
        "\n",
        "The controller handles the user input and updates the model and view."
      ],
      "metadata": {
        "id": "U-EXkHbEG0Ec"
      }
    },
    {
      "cell_type": "code",
      "source": [
        "class TodoController:\n",
        "    def __init__(self, model, view):\n",
        "        self.model = model\n",
        "        self.view = view\n",
        "\n",
        "    def add_todo_item(self):\n",
        "        todo = self.view.prompt_for_new_todo()\n",
        "        self.model.add_todo(todo)\n",
        "        self.update_view()\n",
        "\n",
        "    def remove_todo_item(self):\n",
        "        self.view.display_todos(self.model.get_todos())\n",
        "        todo_index = self.view.prompt_for_todo_to_remove() - 1\n",
        "        todos = self.model.get_todos()\n",
        "        if 0 <= todo_index < len(todos):\n",
        "            self.model.remove_todo(todos[todo_index])\n",
        "            self.update_view()\n",
        "\n",
        "    def update_view(self):\n",
        "        self.view.display_todos(self.model.get_todos())"
      ],
      "metadata": {
        "id": "s_ZFXg9RG4HW"
      },
      "execution_count": null,
      "outputs": []
    },
    {
      "cell_type": "markdown",
      "source": [
        "# Step 4: Use the MVC Components\n",
        "\n",
        "Finally, use the MVC components to create and run the application."
      ],
      "metadata": {
        "id": "DDgCqfrrG78A"
      }
    },
    {
      "cell_type": "code",
      "source": [
        "model = TodoModel()\n",
        "view = TodoView()\n",
        "controller = TodoController(model, view)\n",
        "\n",
        "while True:\n",
        "  action = input(\"What would you like to do? (add/remove/exit): \").strip().lower()\n",
        "  if action == \"add\":\n",
        "    controller.add_todo_item()\n",
        "  elif action == \"remove\":\n",
        "    controller.remove_todo_item()\n",
        "  elif action == \"exit\":\n",
        "    break\n",
        "  else:\n",
        "    print(\"Unknown action. Please try again.\")"
      ],
      "metadata": {
        "id": "1hg0f4tVG-DZ"
      },
      "execution_count": null,
      "outputs": []
    },
    {
      "cell_type": "markdown",
      "source": [
        "### Explanation\n",
        "\n",
        "* Model (TodoModel): Manages the list of to-do items. It provides methods to add, remove, and retrieve to-do items.\n",
        "\n",
        "* View (TodoView): Displays the list of to-do items and prompts the user for input. It provides methods to display to-dos and prompt for new to-do items or the item to remove.\n",
        "\n",
        "* Controller (TodoController): Handles the user input and updates the model and view. It provides methods to add and remove to-do items and to update the view.\n",
        "\n",
        "* main: The main function initializes the MVC components and runs a loop to prompt the user for actions (add, remove, exit)."
      ],
      "metadata": {
        "id": "Ae5Uw1VnHVok"
      }
    },
    {
      "cell_type": "code",
      "source": [],
      "metadata": {
        "id": "QHDsRPazHeaR"
      },
      "execution_count": null,
      "outputs": []
    }
  ]
}